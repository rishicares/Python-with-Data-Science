{
 "cells": [
  {
   "cell_type": "code",
   "execution_count": 1,
   "metadata": {},
   "outputs": [],
   "source": [
    "import pandas as pd\n",
    "import numpy as np\n",
    "import matplotlib.pyplot as plt\n",
    "from sklearn.preprocessing import LabelEncoder"
   ]
  },
  {
   "cell_type": "code",
   "execution_count": 3,
   "metadata": {},
   "outputs": [
    {
     "data": {
      "text/html": [
       "<div>\n",
       "<style scoped>\n",
       "    .dataframe tbody tr th:only-of-type {\n",
       "        vertical-align: middle;\n",
       "    }\n",
       "\n",
       "    .dataframe tbody tr th {\n",
       "        vertical-align: top;\n",
       "    }\n",
       "\n",
       "    .dataframe thead th {\n",
       "        text-align: right;\n",
       "    }\n",
       "</style>\n",
       "<table border=\"1\" class=\"dataframe\">\n",
       "  <thead>\n",
       "    <tr style=\"text-align: right;\">\n",
       "      <th></th>\n",
       "      <th>Employee ID</th>\n",
       "      <th>Employee Name</th>\n",
       "      <th>Address</th>\n",
       "      <th>Post</th>\n",
       "      <th>Monthly Salary</th>\n",
       "      <th>Age</th>\n",
       "      <th>Marital Status</th>\n",
       "      <th>Gender</th>\n",
       "    </tr>\n",
       "  </thead>\n",
       "  <tbody>\n",
       "    <tr>\n",
       "      <th>0</th>\n",
       "      <td>f086e110-447e-47bb-8216-f43333b83c99</td>\n",
       "      <td>Anna Alvarado</td>\n",
       "      <td>1812 Christopher Ways Apt. 060\\r\\nPort Cody, P...</td>\n",
       "      <td>Geologist, wellsite</td>\n",
       "      <td>9009.93</td>\n",
       "      <td>43</td>\n",
       "      <td>Married</td>\n",
       "      <td>Male</td>\n",
       "    </tr>\n",
       "    <tr>\n",
       "      <th>1</th>\n",
       "      <td>d6f4d4f0-ed64-412b-8839-6d58f1e2d677</td>\n",
       "      <td>Peter Williams</td>\n",
       "      <td>265 David Light\\r\\nAngelaport, AZ 34012</td>\n",
       "      <td>Aeronautical engineer</td>\n",
       "      <td>7048.79</td>\n",
       "      <td>38</td>\n",
       "      <td>Married</td>\n",
       "      <td>Male</td>\n",
       "    </tr>\n",
       "    <tr>\n",
       "      <th>2</th>\n",
       "      <td>10855e43-7e2e-4336-b399-5bcb75d9ebb2</td>\n",
       "      <td>Crystal Mcguire</td>\n",
       "      <td>07950 Scott Course Apt. 268\\r\\nWest Stephanie,...</td>\n",
       "      <td>Quarry manager</td>\n",
       "      <td>10988.46</td>\n",
       "      <td>46</td>\n",
       "      <td>Single</td>\n",
       "      <td>Female</td>\n",
       "    </tr>\n",
       "    <tr>\n",
       "      <th>3</th>\n",
       "      <td>1356a938-2c8c-419b-9c3f-28d2a742b668</td>\n",
       "      <td>Daniel Miller</td>\n",
       "      <td>6660 Karen Hills Suite 025\\r\\nNicholasshire, G...</td>\n",
       "      <td>Clinical research associate</td>\n",
       "      <td>5555.19</td>\n",
       "      <td>38</td>\n",
       "      <td>Married</td>\n",
       "      <td>Female</td>\n",
       "    </tr>\n",
       "    <tr>\n",
       "      <th>4</th>\n",
       "      <td>afc415b8-e9e6-4f3a-9645-c8f7906c8022</td>\n",
       "      <td>James Kim</td>\n",
       "      <td>5544 Morrison Villages\\r\\nEast Staceyborough, ...</td>\n",
       "      <td>Ceramics designer</td>\n",
       "      <td>7360.91</td>\n",
       "      <td>44</td>\n",
       "      <td>Single</td>\n",
       "      <td>Female</td>\n",
       "    </tr>\n",
       "  </tbody>\n",
       "</table>\n",
       "</div>"
      ],
      "text/plain": [
       "                            Employee ID    Employee Name  \\\n",
       "0  f086e110-447e-47bb-8216-f43333b83c99    Anna Alvarado   \n",
       "1  d6f4d4f0-ed64-412b-8839-6d58f1e2d677   Peter Williams   \n",
       "2  10855e43-7e2e-4336-b399-5bcb75d9ebb2  Crystal Mcguire   \n",
       "3  1356a938-2c8c-419b-9c3f-28d2a742b668    Daniel Miller   \n",
       "4  afc415b8-e9e6-4f3a-9645-c8f7906c8022        James Kim   \n",
       "\n",
       "                                             Address  \\\n",
       "0  1812 Christopher Ways Apt. 060\\r\\nPort Cody, P...   \n",
       "1            265 David Light\\r\\nAngelaport, AZ 34012   \n",
       "2  07950 Scott Course Apt. 268\\r\\nWest Stephanie,...   \n",
       "3  6660 Karen Hills Suite 025\\r\\nNicholasshire, G...   \n",
       "4  5544 Morrison Villages\\r\\nEast Staceyborough, ...   \n",
       "\n",
       "                          Post  Monthly Salary  Age Marital Status  Gender  \n",
       "0          Geologist, wellsite         9009.93   43        Married    Male  \n",
       "1        Aeronautical engineer         7048.79   38        Married    Male  \n",
       "2               Quarry manager        10988.46   46         Single  Female  \n",
       "3  Clinical research associate         5555.19   38        Married  Female  \n",
       "4            Ceramics designer         7360.91   44         Single  Female  "
      ]
     },
     "execution_count": 3,
     "metadata": {},
     "output_type": "execute_result"
    }
   ],
   "source": [
    "data=pd.read_csv(r'pandas/employee_records.csv')\n",
    "data.head()"
   ]
  },
  {
   "cell_type": "code",
   "execution_count": 4,
   "metadata": {},
   "outputs": [
    {
     "data": {
      "text/plain": [
       "Gender\n",
       "Female    494\n",
       "Male      506\n",
       "Name: Marital Status, dtype: int64"
      ]
     },
     "execution_count": 4,
     "metadata": {},
     "output_type": "execute_result"
    }
   ],
   "source": [
    "group=data.groupby('Gender')['Marital Status'].size()\n",
    "group"
   ]
  },
  {
   "cell_type": "code",
   "execution_count": 6,
   "metadata": {},
   "outputs": [],
   "source": [
    "def age_cat(x):\n",
    "    if x<30:\n",
    "        return '25-29'\n",
    "    elif x<35:\n",
    "        return '30-34'\n",
    "    elif x<40:\n",
    "        return '35-39'\n",
    "    else:\n",
    "        return '40 and above'"
   ]
  },
  {
   "cell_type": "code",
   "execution_count": 10,
   "metadata": {},
   "outputs": [],
   "source": [
    "data['age group']=data['Age'].apply(age_cat)"
   ]
  },
  {
   "cell_type": "code",
   "execution_count": 14,
   "metadata": {},
   "outputs": [
    {
     "data": {
      "text/plain": [
       "age group     Gender\n",
       "25-29         Female    27.171717\n",
       "              Male      27.023256\n",
       "30-34         Female    31.852941\n",
       "              Male      31.926316\n",
       "35-39         Female    36.921348\n",
       "              Male      36.814433\n",
       "40 and above  Female    44.823529\n",
       "              Male      45.250000\n",
       "Name: Age, dtype: float64"
      ]
     },
     "execution_count": 14,
     "metadata": {},
     "output_type": "execute_result"
    }
   ],
   "source": [
    "age_group = data.groupby(['age group','Gender'])['Age'].mean()\n",
    "age_group"
   ]
  },
  {
   "cell_type": "code",
   "execution_count": 16,
   "metadata": {},
   "outputs": [
    {
     "data": {
      "text/html": [
       "<div>\n",
       "<style scoped>\n",
       "    .dataframe tbody tr th:only-of-type {\n",
       "        vertical-align: middle;\n",
       "    }\n",
       "\n",
       "    .dataframe tbody tr th {\n",
       "        vertical-align: top;\n",
       "    }\n",
       "\n",
       "    .dataframe thead th {\n",
       "        text-align: right;\n",
       "    }\n",
       "</style>\n",
       "<table border=\"1\" class=\"dataframe\">\n",
       "  <thead>\n",
       "    <tr style=\"text-align: right;\">\n",
       "      <th></th>\n",
       "      <th>S.No.</th>\n",
       "      <th>Name</th>\n",
       "      <th>Location</th>\n",
       "      <th>Year</th>\n",
       "      <th>Kilometers_Driven</th>\n",
       "      <th>Fuel_Type</th>\n",
       "      <th>Transmission</th>\n",
       "      <th>Owner_Type</th>\n",
       "      <th>Mileage</th>\n",
       "      <th>Engine</th>\n",
       "      <th>Power</th>\n",
       "      <th>Seats</th>\n",
       "      <th>New_Price</th>\n",
       "      <th>Price</th>\n",
       "    </tr>\n",
       "  </thead>\n",
       "  <tbody>\n",
       "    <tr>\n",
       "      <th>0</th>\n",
       "      <td>0</td>\n",
       "      <td>Maruti Wagon R LXI CNG</td>\n",
       "      <td>Mumbai</td>\n",
       "      <td>2010</td>\n",
       "      <td>72000</td>\n",
       "      <td>CNG</td>\n",
       "      <td>Manual</td>\n",
       "      <td>First</td>\n",
       "      <td>26.6 km/kg</td>\n",
       "      <td>998 CC</td>\n",
       "      <td>58.16 bhp</td>\n",
       "      <td>5.0</td>\n",
       "      <td>NaN</td>\n",
       "      <td>1.75</td>\n",
       "    </tr>\n",
       "    <tr>\n",
       "      <th>1</th>\n",
       "      <td>1</td>\n",
       "      <td>Hyundai Creta 1.6 CRDi SX Option</td>\n",
       "      <td>Pune</td>\n",
       "      <td>2015</td>\n",
       "      <td>41000</td>\n",
       "      <td>Diesel</td>\n",
       "      <td>Manual</td>\n",
       "      <td>First</td>\n",
       "      <td>19.67 kmpl</td>\n",
       "      <td>1582 CC</td>\n",
       "      <td>126.2 bhp</td>\n",
       "      <td>5.0</td>\n",
       "      <td>NaN</td>\n",
       "      <td>12.50</td>\n",
       "    </tr>\n",
       "    <tr>\n",
       "      <th>2</th>\n",
       "      <td>2</td>\n",
       "      <td>Honda Jazz V</td>\n",
       "      <td>Chennai</td>\n",
       "      <td>2011</td>\n",
       "      <td>46000</td>\n",
       "      <td>Petrol</td>\n",
       "      <td>Manual</td>\n",
       "      <td>First</td>\n",
       "      <td>18.2 kmpl</td>\n",
       "      <td>1199 CC</td>\n",
       "      <td>88.7 bhp</td>\n",
       "      <td>5.0</td>\n",
       "      <td>8.61 Lakh</td>\n",
       "      <td>4.50</td>\n",
       "    </tr>\n",
       "    <tr>\n",
       "      <th>3</th>\n",
       "      <td>3</td>\n",
       "      <td>Maruti Ertiga VDI</td>\n",
       "      <td>Chennai</td>\n",
       "      <td>2012</td>\n",
       "      <td>87000</td>\n",
       "      <td>Diesel</td>\n",
       "      <td>Manual</td>\n",
       "      <td>First</td>\n",
       "      <td>20.77 kmpl</td>\n",
       "      <td>1248 CC</td>\n",
       "      <td>88.76 bhp</td>\n",
       "      <td>7.0</td>\n",
       "      <td>NaN</td>\n",
       "      <td>6.00</td>\n",
       "    </tr>\n",
       "    <tr>\n",
       "      <th>4</th>\n",
       "      <td>4</td>\n",
       "      <td>Audi A4 New 2.0 TDI Multitronic</td>\n",
       "      <td>Coimbatore</td>\n",
       "      <td>2013</td>\n",
       "      <td>40670</td>\n",
       "      <td>Diesel</td>\n",
       "      <td>Automatic</td>\n",
       "      <td>Second</td>\n",
       "      <td>15.2 kmpl</td>\n",
       "      <td>1968 CC</td>\n",
       "      <td>140.8 bhp</td>\n",
       "      <td>5.0</td>\n",
       "      <td>NaN</td>\n",
       "      <td>17.74</td>\n",
       "    </tr>\n",
       "  </tbody>\n",
       "</table>\n",
       "</div>"
      ],
      "text/plain": [
       "   S.No.                              Name    Location  Year  \\\n",
       "0      0            Maruti Wagon R LXI CNG      Mumbai  2010   \n",
       "1      1  Hyundai Creta 1.6 CRDi SX Option        Pune  2015   \n",
       "2      2                      Honda Jazz V     Chennai  2011   \n",
       "3      3                 Maruti Ertiga VDI     Chennai  2012   \n",
       "4      4   Audi A4 New 2.0 TDI Multitronic  Coimbatore  2013   \n",
       "\n",
       "   Kilometers_Driven Fuel_Type Transmission Owner_Type     Mileage   Engine  \\\n",
       "0              72000       CNG       Manual      First  26.6 km/kg   998 CC   \n",
       "1              41000    Diesel       Manual      First  19.67 kmpl  1582 CC   \n",
       "2              46000    Petrol       Manual      First   18.2 kmpl  1199 CC   \n",
       "3              87000    Diesel       Manual      First  20.77 kmpl  1248 CC   \n",
       "4              40670    Diesel    Automatic     Second   15.2 kmpl  1968 CC   \n",
       "\n",
       "       Power  Seats  New_Price  Price  \n",
       "0  58.16 bhp    5.0        NaN   1.75  \n",
       "1  126.2 bhp    5.0        NaN  12.50  \n",
       "2   88.7 bhp    5.0  8.61 Lakh   4.50  \n",
       "3  88.76 bhp    7.0        NaN   6.00  \n",
       "4  140.8 bhp    5.0        NaN  17.74  "
      ]
     },
     "execution_count": 16,
     "metadata": {},
     "output_type": "execute_result"
    }
   ],
   "source": [
    "#importing cars data\n",
    "data = pd.read_csv(r'pandas/used_cars_data.csv')\n",
    "data.head()"
   ]
  },
  {
   "cell_type": "code",
   "execution_count": 18,
   "metadata": {},
   "outputs": [
    {
     "data": {
      "text/plain": [
       "1234"
      ]
     },
     "execution_count": 18,
     "metadata": {},
     "output_type": "execute_result"
    }
   ],
   "source": [
    "data['Price'].isna().sum()"
   ]
  },
  {
   "cell_type": "code",
   "execution_count": 22,
   "metadata": {},
   "outputs": [],
   "source": [
    "x = data['Price'].mean()"
   ]
  },
  {
   "cell_type": "code",
   "execution_count": 23,
   "metadata": {},
   "outputs": [],
   "source": [
    "data['Price']=data['Price'].fillna(x)"
   ]
  },
  {
   "cell_type": "code",
   "execution_count": 24,
   "metadata": {},
   "outputs": [
    {
     "data": {
      "text/plain": [
       "0"
      ]
     },
     "execution_count": 24,
     "metadata": {},
     "output_type": "execute_result"
    }
   ],
   "source": [
    "data['Price'].isna().sum()"
   ]
  },
  {
   "cell_type": "code",
   "execution_count": 25,
   "metadata": {},
   "outputs": [],
   "source": [
    "#dropna()\n",
    "#syntax\n",
    "#drop duplicates\n",
    "#duplicated()"
   ]
  },
  {
   "cell_type": "code",
   "execution_count": 28,
   "metadata": {},
   "outputs": [
    {
     "data": {
      "text/plain": [
       "dtype('float64')"
      ]
     },
     "execution_count": 28,
     "metadata": {},
     "output_type": "execute_result"
    }
   ],
   "source": [
    "data['Price'].dtype"
   ]
  },
  {
   "cell_type": "code",
   "execution_count": 30,
   "metadata": {},
   "outputs": [],
   "source": [
    "data['Price']=data['Price'].astype(int)"
   ]
  },
  {
   "cell_type": "code",
   "execution_count": 31,
   "metadata": {},
   "outputs": [
    {
     "data": {
      "text/plain": [
       "Index(['S.No.', 'Name', 'Location', 'Year', 'Kilometers_Driven', 'Fuel_Type',\n",
       "       'Transmission', 'Owner_Type', 'Mileage', 'Engine', 'Power', 'Seats',\n",
       "       'New_Price', 'Price'],\n",
       "      dtype='object')"
      ]
     },
     "execution_count": 31,
     "metadata": {},
     "output_type": "execute_result"
    }
   ],
   "source": [
    "data.columns"
   ]
  },
  {
   "cell_type": "code",
   "execution_count": 33,
   "metadata": {},
   "outputs": [
    {
     "data": {
      "text/plain": [
       "Fuel_Type\n",
       "CNG           62\n",
       "Diesel      3852\n",
       "Electric       2\n",
       "LPG           12\n",
       "Petrol      3325\n",
       "Name: Name, dtype: int64"
      ]
     },
     "execution_count": 33,
     "metadata": {},
     "output_type": "execute_result"
    }
   ],
   "source": [
    "cars_no = data.groupby('Fuel_Type')['Name'].size().sort_index()\n",
    "cars_no"
   ]
  },
  {
   "cell_type": "code",
   "execution_count": 35,
   "metadata": {},
   "outputs": [
    {
     "data": {
      "text/plain": [
       "Location\n",
       "Ahmedabad     275\n",
       "Bangalore     440\n",
       "Chennai       591\n",
       "Coimbatore    772\n",
       "Delhi         660\n",
       "Hyderabad     876\n",
       "Jaipur        499\n",
       "Kochi         772\n",
       "Kolkata       654\n",
       "Mumbai        949\n",
       "Pune          765\n",
       "Name: Name, dtype: int64"
      ]
     },
     "execution_count": 35,
     "metadata": {},
     "output_type": "execute_result"
    }
   ],
   "source": [
    "#Sales of car according to location\n",
    "car_sales = data.groupby('Location')['Name'].size().sort_index()\n",
    "car_sales"
   ]
  },
  {
   "cell_type": "code",
   "execution_count": 36,
   "metadata": {},
   "outputs": [
    {
     "data": {
      "text/plain": [
       "Location    Fuel_Type\n",
       "Ahmedabad   CNG            3\n",
       "            Diesel       169\n",
       "            Petrol       103\n",
       "Bangalore   CNG            1\n",
       "            Diesel       273\n",
       "            Petrol       166\n",
       "Chennai     CNG            2\n",
       "            Diesel       341\n",
       "            Electric       1\n",
       "            Petrol       247\n",
       "Coimbatore  Diesel       430\n",
       "            Petrol       342\n",
       "Delhi       CNG           12\n",
       "            Diesel       361\n",
       "            Petrol       287\n",
       "Hyderabad   CNG            3\n",
       "            Diesel       593\n",
       "            LPG            6\n",
       "            Petrol       274\n",
       "Jaipur      Diesel       276\n",
       "            LPG            4\n",
       "            Petrol       219\n",
       "Kochi       CNG            9\n",
       "            Diesel       358\n",
       "            Petrol       405\n",
       "Kolkata     CNG            1\n",
       "            Diesel       316\n",
       "            Petrol       337\n",
       "Mumbai      CNG           18\n",
       "            Diesel       371\n",
       "            Electric       1\n",
       "            LPG            1\n",
       "            Petrol       558\n",
       "Pune        CNG           13\n",
       "            Diesel       364\n",
       "            LPG            1\n",
       "            Petrol       387\n",
       "Name: Name, dtype: int64"
      ]
     },
     "execution_count": 36,
     "metadata": {},
     "output_type": "execute_result"
    }
   ],
   "source": [
    "#Sales of car according to location\n",
    "car_sales = data.groupby(['Location','Fuel_Type'])['Name'].size().sort_index()\n",
    "car_sales"
   ]
  },
  {
   "cell_type": "code",
   "execution_count": 37,
   "metadata": {},
   "outputs": [
    {
     "data": {
      "text/plain": [
       "0        998 CC\n",
       "1       1582 CC\n",
       "2       1199 CC\n",
       "3       1248 CC\n",
       "4       1968 CC\n",
       "         ...   \n",
       "7248    1598 CC\n",
       "7249    1197 CC\n",
       "7250    1461 CC\n",
       "7251    1197 CC\n",
       "7252    2148 CC\n",
       "Name: Engine, Length: 7253, dtype: object"
      ]
     },
     "execution_count": 37,
     "metadata": {},
     "output_type": "execute_result"
    }
   ],
   "source": [
    "data['Engine']"
   ]
  },
  {
   "cell_type": "code",
   "execution_count": 38,
   "metadata": {},
   "outputs": [
    {
     "data": {
      "text/plain": [
       "0        998 \n",
       "1       1582 \n",
       "2       1199 \n",
       "3       1248 \n",
       "4       1968 \n",
       "        ...  \n",
       "7248    1598 \n",
       "7249    1197 \n",
       "7250    1461 \n",
       "7251    1197 \n",
       "7252    2148 \n",
       "Name: Engine, Length: 7253, dtype: object"
      ]
     },
     "execution_count": 38,
     "metadata": {},
     "output_type": "execute_result"
    }
   ],
   "source": [
    "data['Engine']=data['Engine'].str.replace('CC','')\n",
    "data['Engine']"
   ]
  },
  {
   "cell_type": "code",
   "execution_count": 49,
   "metadata": {},
   "outputs": [
    {
     "data": {
      "text/plain": [
       "0        998.0\n",
       "1       1582.0\n",
       "2       1199.0\n",
       "3       1248.0\n",
       "4       1968.0\n",
       "         ...  \n",
       "7248    1598.0\n",
       "7249    1197.0\n",
       "7250    1461.0\n",
       "7251    1197.0\n",
       "7252    2148.0\n",
       "Name: Engine, Length: 7253, dtype: float32"
      ]
     },
     "execution_count": 49,
     "metadata": {},
     "output_type": "execute_result"
    }
   ],
   "source": [
    "data['Engine']=data['Engine'].astype('f')\n",
    "data['Engine']"
   ]
  },
  {
   "cell_type": "code",
   "execution_count": 50,
   "metadata": {},
   "outputs": [],
   "source": [
    "data['Engine']= data['Engine'].fillna(data['Engine'].mean())"
   ]
  },
  {
   "cell_type": "code",
   "execution_count": 51,
   "metadata": {},
   "outputs": [
    {
     "data": {
      "text/plain": [
       "0"
      ]
     },
     "execution_count": 51,
     "metadata": {},
     "output_type": "execute_result"
    }
   ],
   "source": [
    "data['Engine'].isna().sum()"
   ]
  },
  {
   "cell_type": "code",
   "execution_count": 56,
   "metadata": {},
   "outputs": [
    {
     "data": {
      "text/plain": [
       "Location\n",
       "Ahmedabad      8.167273\n",
       "Bangalore     12.161364\n",
       "Chennai        7.590525\n",
       "Coimbatore    13.579016\n",
       "Delhi          9.201515\n",
       "Hyderabad      9.269406\n",
       "Jaipur         5.981964\n",
       "Kochi         10.414508\n",
       "Kolkata        5.859327\n",
       "Mumbai         8.933614\n",
       "Pune           6.823529\n",
       "Name: Price, dtype: float64"
      ]
     },
     "execution_count": 56,
     "metadata": {},
     "output_type": "execute_result"
    }
   ],
   "source": [
    "avgP = data.groupby('Location')['Price'].mean().sort_index()\n",
    "avgP"
   ]
  },
  {
   "cell_type": "code",
   "execution_count": 73,
   "metadata": {},
   "outputs": [
    {
     "data": {
      "text/plain": [
       "0"
      ]
     },
     "execution_count": 73,
     "metadata": {},
     "output_type": "execute_result"
    }
   ],
   "source": [
    "data['Mileage'].isna().sum()"
   ]
  },
  {
   "cell_type": "code",
   "execution_count": 74,
   "metadata": {},
   "outputs": [
    {
     "data": {
      "text/plain": [
       "0     26.6  \n",
       "1    19.67  \n",
       "2     18.2  \n",
       "3    20.77  \n",
       "4     15.2  \n",
       "Name: Mileage, dtype: object"
      ]
     },
     "execution_count": 74,
     "metadata": {},
     "output_type": "execute_result"
    }
   ],
   "source": [
    "data['Mileage'] = data['Mileage'].str.replace('kmpl',' ')\n",
    "data['Mileage'].head()"
   ]
  },
  {
   "cell_type": "code",
   "execution_count": 77,
   "metadata": {},
   "outputs": [
    {
     "data": {
      "text/plain": [
       "0       26.600000\n",
       "1       19.670000\n",
       "2       18.200001\n",
       "3       20.770000\n",
       "4       15.200000\n",
       "          ...    \n",
       "7248    20.540001\n",
       "7249    17.209999\n",
       "7250    23.080000\n",
       "7251    17.200001\n",
       "7252    10.000000\n",
       "Name: Mileage, Length: 7253, dtype: float32"
      ]
     },
     "execution_count": 77,
     "metadata": {},
     "output_type": "execute_result"
    }
   ],
   "source": [
    "data['Mileage'] = data['Mileage'].fillna('').str.replace('kmpl',' ').fillna(0).astype('float')\n",
    "data['Mileage'].astype('f')"
   ]
  },
  {
   "cell_type": "code",
   "execution_count": 78,
   "metadata": {},
   "outputs": [
    {
     "data": {
      "text/plain": [
       "Seats\n",
       "0.0     10.500000\n",
       "2.0     11.630000\n",
       "4.0     18.644454\n",
       "5.0     18.818350\n",
       "6.0     15.105789\n",
       "7.0     14.706344\n",
       "8.0     13.183765\n",
       "9.0     13.526667\n",
       "10.0    11.896250\n",
       "Name: Mileage, dtype: float64"
      ]
     },
     "execution_count": 78,
     "metadata": {},
     "output_type": "execute_result"
    }
   ],
   "source": [
    "data.groupby('Seats')['Mileage'].mean()"
   ]
  },
  {
   "cell_type": "code",
   "execution_count": 88,
   "metadata": {},
   "outputs": [
    {
     "data": {
      "text/plain": [
       "age\n",
       "5.0     119\n",
       "6.0     361\n",
       "7.0     709\n",
       "8.0     886\n",
       "9.0     929\n",
       "10.0    925\n",
       "11.0    791\n",
       "12.0    690\n",
       "13.0    579\n",
       "14.0    407\n",
       "15.0    252\n",
       "16.0    207\n",
       "17.0    148\n",
       "18.0     89\n",
       "19.0     68\n",
       "20.0     35\n",
       "21.0     20\n",
       "22.0     18\n",
       "23.0      8\n",
       "24.0      5\n",
       "25.0      2\n",
       "26.0      4\n",
       "28.0      1\n",
       "Name: Name, dtype: int64"
      ]
     },
     "execution_count": 88,
     "metadata": {},
     "output_type": "execute_result"
    }
   ],
   "source": [
    "data['cyear']=2024\n",
    "data['Year'] = data['Year'].astype('f')\n",
    "data['age'] = data['cyear'] - data['Year']\n",
    "data.groupby('age')['Name'].size()\n"
   ]
  },
  {
   "cell_type": "code",
   "execution_count": 85,
   "metadata": {},
   "outputs": [
    {
     "data": {
      "text/plain": [
       "Year    Transmission\n",
       "1996.0  Manual            1\n",
       "1998.0  Automatic         1\n",
       "        Manual            3\n",
       "1999.0  Manual            2\n",
       "2000.0  Manual            5\n",
       "2001.0  Manual            8\n",
       "2002.0  Manual           18\n",
       "2003.0  Automatic         3\n",
       "        Manual           17\n",
       "2004.0  Automatic         6\n",
       "        Manual           29\n",
       "2005.0  Automatic        12\n",
       "        Manual           56\n",
       "2006.0  Automatic        11\n",
       "        Manual           78\n",
       "2007.0  Automatic        22\n",
       "        Manual          126\n",
       "2008.0  Automatic        47\n",
       "        Manual          160\n",
       "2009.0  Automatic        81\n",
       "        Manual          171\n",
       "2010.0  Automatic        88\n",
       "        Manual          319\n",
       "2011.0  Automatic       160\n",
       "        Manual          419\n",
       "2012.0  Automatic       174\n",
       "        Manual          516\n",
       "2013.0  Automatic       218\n",
       "        Manual          573\n",
       "2014.0  Automatic       265\n",
       "        Manual          660\n",
       "2015.0  Automatic       274\n",
       "        Manual          655\n",
       "2016.0  Automatic       269\n",
       "        Manual          617\n",
       "2017.0  Automatic       232\n",
       "        Manual          477\n",
       "2018.0  Automatic       132\n",
       "        Manual          229\n",
       "2019.0  Automatic        54\n",
       "        Manual           65\n",
       "Name: Name, dtype: int64"
      ]
     },
     "execution_count": 85,
     "metadata": {},
     "output_type": "execute_result"
    }
   ],
   "source": [
    "#cars type sales according to year\n",
    "sales = data.groupby(['Year','Transmission'])['Name'].size()\n",
    "sales"
   ]
  },
  {
   "cell_type": "code",
   "execution_count": 86,
   "metadata": {},
   "outputs": [],
   "source": [
    "#size(), sum(), value_count()\n",
    "#index(), values()"
   ]
  },
  {
   "cell_type": "code",
   "execution_count": null,
   "metadata": {},
   "outputs": [],
   "source": []
  }
 ],
 "metadata": {
  "kernelspec": {
   "display_name": "base",
   "language": "python",
   "name": "python3"
  },
  "language_info": {
   "codemirror_mode": {
    "name": "ipython",
    "version": 3
   },
   "file_extension": ".py",
   "mimetype": "text/x-python",
   "name": "python",
   "nbconvert_exporter": "python",
   "pygments_lexer": "ipython3",
   "version": "3.11.7"
  }
 },
 "nbformat": 4,
 "nbformat_minor": 2
}
