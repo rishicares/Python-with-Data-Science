{
 "cells": [
  {
   "cell_type": "code",
   "execution_count": 2,
   "id": "7ab999d5-55aa-4daf-ad07-deaff48f878b",
   "metadata": {},
   "outputs": [],
   "source": [
    "import numpy as np"
   ]
  },
  {
   "cell_type": "code",
   "execution_count": 17,
   "id": "df84ddd2-b50e-48e3-bd28-457f2ae2702a",
   "metadata": {},
   "outputs": [],
   "source": [
    "#we deal with array not list \n",
    "\n",
    "#diff between array and list\n",
    "#array is a collection of elements of the same type whereas a list can have different types of elements\n",
    "#array is faster than list\n",
    "#array is more memory efficient than list\n",
    "#array supports vectorized operations while list does not\n"
   ]
  },
  {
   "cell_type": "code",
   "execution_count": 3,
   "id": "d42230fb",
   "metadata": {},
   "outputs": [],
   "source": [
    "#creating array\n",
    "#using arange() function\n",
    "x=np.arange(10)"
   ]
  },
  {
   "cell_type": "code",
   "execution_count": 7,
   "id": "3b1308cb",
   "metadata": {},
   "outputs": [],
   "source": [
    "x=np.arange(5,50)\n",
    "y=np.arange(5,50,5)"
   ]
  },
  {
   "cell_type": "code",
   "execution_count": 8,
   "id": "6481bf2d",
   "metadata": {},
   "outputs": [
    {
     "data": {
      "text/plain": [
       "array([1])"
      ]
     },
     "execution_count": 8,
     "metadata": {},
     "output_type": "execute_result"
    }
   ],
   "source": [
    "#creating array with aray method \n",
    "a=np.array([1])\n",
    "a"
   ]
  },
  {
   "cell_type": "code",
   "execution_count": 9,
   "id": "14fbca4a",
   "metadata": {},
   "outputs": [
    {
     "data": {
      "text/plain": [
       "array([1, 2, 3, 4, 5])"
      ]
     },
     "execution_count": 9,
     "metadata": {},
     "output_type": "execute_result"
    }
   ],
   "source": [
    "b=np.array([1,2,3,4,5])\n",
    "b"
   ]
  },
  {
   "cell_type": "code",
   "execution_count": 10,
   "id": "1efe564f",
   "metadata": {},
   "outputs": [
    {
     "data": {
      "text/plain": [
       "array([1, 2, 3, 4, 5])"
      ]
     },
     "execution_count": 10,
     "metadata": {},
     "output_type": "execute_result"
    }
   ],
   "source": [
    "#creating array with other datatypes \n",
    "#using list tuples string and set \n",
    "#using list \n",
    "list_x=[1,2,3,4,5]\n",
    "ar=np.array(list_x)\n",
    "ar"
   ]
  },
  {
   "cell_type": "code",
   "execution_count": 11,
   "id": "5c80ff3b",
   "metadata": {},
   "outputs": [],
   "source": [
    "#using tuples \n",
    "tuple_x=(1,2,3,4,5)\n",
    "ary=np.array(tuple_x)"
   ]
  },
  {
   "cell_type": "code",
   "execution_count": 12,
   "id": "028de56a",
   "metadata": {},
   "outputs": [
    {
     "data": {
      "text/plain": [
       "array(['1', '2', '3', '4', '5.0', 'a', 'b'], dtype='<U32')"
      ]
     },
     "execution_count": 12,
     "metadata": {},
     "output_type": "execute_result"
    }
   ],
   "source": [
    "#using list with different datatypes to create array\n",
    "list_x=[1,2,3,4,5.0,\"a\",\"b\"]\n",
    "np.array(list_x)\n",
    "#converts everything into unicode characters \n"
   ]
  },
  {
   "cell_type": "code",
   "execution_count": 13,
   "id": "6524af78",
   "metadata": {},
   "outputs": [
    {
     "data": {
      "text/plain": [
       "array({'u', 'o', 'i', 'e', 'a'}, dtype=object)"
      ]
     },
     "execution_count": 13,
     "metadata": {},
     "output_type": "execute_result"
    }
   ],
   "source": [
    "#using set to create arrayb \n",
    "set_x={\"a\",\"e\",\"i\",\"o\",\"u\"}\n",
    "ar_set=np.array(set_x)\n",
    "ar_set"
   ]
  },
  {
   "cell_type": "code",
   "execution_count": 14,
   "id": "92205d0b",
   "metadata": {},
   "outputs": [
    {
     "data": {
      "text/plain": [
       "49"
      ]
     },
     "execution_count": 14,
     "metadata": {},
     "output_type": "execute_result"
    }
   ],
   "source": [
    "# ..............accessing elements of array.....................\n",
    "#indexing and ordering is possible as that of list \n",
    "x[0]\n",
    "x[-1]\n"
   ]
  },
  {
   "cell_type": "code",
   "execution_count": 15,
   "id": "ea68b895",
   "metadata": {},
   "outputs": [
    {
     "data": {
      "text/plain": [
       "array([ 5, 10, 15, 20, 25, 30, 35, 40, 45, 50])"
      ]
     },
     "execution_count": 15,
     "metadata": {},
     "output_type": "execute_result"
    }
   ],
   "source": [
    "x=np.arange(5,51,5)\n",
    "x"
   ]
  },
  {
   "cell_type": "code",
   "execution_count": 16,
   "id": "291e5951",
   "metadata": {},
   "outputs": [
    {
     "data": {
      "text/plain": [
       "10"
      ]
     },
     "execution_count": 16,
     "metadata": {},
     "output_type": "execute_result"
    }
   ],
   "source": [
    "len(x)\n",
    "\n",
    "\n"
   ]
  },
  {
   "cell_type": "code",
   "execution_count": 17,
   "id": "da3e98a8",
   "metadata": {},
   "outputs": [
    {
     "data": {
      "text/plain": [
       "array([100,  10,  15,  20,  25,  30,  35,  40,  45,  50])"
      ]
     },
     "execution_count": 17,
     "metadata": {},
     "output_type": "execute_result"
    }
   ],
   "source": [
    "#updating elements of array\n",
    "x[0]=100\n",
    "x"
   ]
  },
  {
   "cell_type": "code",
   "execution_count": 18,
   "id": "e5ac8db5",
   "metadata": {},
   "outputs": [
    {
     "data": {
      "text/plain": [
       "array([[1, 2, 3],\n",
       "       [4, 5, 6],\n",
       "       [7, 8, 9]])"
      ]
     },
     "execution_count": 18,
     "metadata": {},
     "output_type": "execute_result"
    }
   ],
   "source": [
    "#creating 2d array\n",
    "#difference between 2d array and 1d array is that 2d array has rows and columns\n",
    "#2d array is also called as matrix\n",
    "a2d=np.array([[1,2,3],[4,5,6],[7,8,9]])\n",
    "a2d"
   ]
  },
  {
   "cell_type": "code",
   "execution_count": 31,
   "id": "8fbbad80",
   "metadata": {},
   "outputs": [
    {
     "data": {
      "text/plain": [
       "(3, 3)"
      ]
     },
     "execution_count": 31,
     "metadata": {},
     "output_type": "execute_result"
    }
   ],
   "source": [
    "#it has two methods \n",
    "#shape \n",
    "#ndim\n",
    "#dtype\n",
    "a2d.shape"
   ]
  },
  {
   "cell_type": "code",
   "execution_count": 32,
   "id": "4928f353",
   "metadata": {},
   "outputs": [
    {
     "data": {
      "text/plain": [
       "2"
      ]
     },
     "execution_count": 32,
     "metadata": {},
     "output_type": "execute_result"
    }
   ],
   "source": [
    "a2d.ndim"
   ]
  },
  {
   "cell_type": "code",
   "execution_count": 19,
   "id": "20eeee34",
   "metadata": {},
   "outputs": [
    {
     "data": {
      "text/plain": [
       "dtype('int32')"
      ]
     },
     "execution_count": 19,
     "metadata": {},
     "output_type": "execute_result"
    }
   ],
   "source": [
    "a2d.dtype"
   ]
  },
  {
   "cell_type": "code",
   "execution_count": 20,
   "id": "1948cd25",
   "metadata": {},
   "outputs": [
    {
     "data": {
      "text/plain": [
       "(5, 6)"
      ]
     },
     "execution_count": 20,
     "metadata": {},
     "output_type": "execute_result"
    }
   ],
   "source": [
    "#creating a 5*6 array \n",
    "ar56=np.array([[1,2,3,4,5,6],[7,8,9,10,11,12],[13,14,15,16,17,18],[19,20,21,22,23,24],[25,26,27,28,29,30]])\n",
    "ar56.shape"
   ]
  },
  {
   "cell_type": "code",
   "execution_count": 21,
   "id": "8134d14d",
   "metadata": {},
   "outputs": [
    {
     "data": {
      "text/plain": [
       "array([100,  10,  15,  20,  25])"
      ]
     },
     "execution_count": 21,
     "metadata": {},
     "output_type": "execute_result"
    }
   ],
   "source": [
    "#slicing of array \n",
    "#slicing is same as that of list\n",
    "#for single array\n",
    "#[start:stop:step]\n",
    "#[default:end:step]\n",
    "#[default:default:step]\n",
    "x[:5]"
   ]
  },
  {
   "cell_type": "code",
   "execution_count": 22,
   "id": "761be589",
   "metadata": {},
   "outputs": [
    {
     "data": {
      "text/plain": [
       "array([10, 15, 20, 25])"
      ]
     },
     "execution_count": 22,
     "metadata": {},
     "output_type": "execute_result"
    }
   ],
   "source": [
    "x[1:5]"
   ]
  },
  {
   "cell_type": "code",
   "execution_count": 23,
   "id": "675ae48f",
   "metadata": {},
   "outputs": [
    {
     "data": {
      "text/plain": [
       "array([ 8,  9, 10, 11])"
      ]
     },
     "execution_count": 23,
     "metadata": {},
     "output_type": "execute_result"
    }
   ],
   "source": [
    "#for 2d array \n",
    "#doing same process in both rows and columns\n",
    "ar56[1,1:5]"
   ]
  },
  {
   "cell_type": "code",
   "execution_count": 24,
   "id": "67de9ded",
   "metadata": {},
   "outputs": [
    {
     "data": {
      "text/plain": [
       "array([[ 8,  9, 10, 11],\n",
       "       [14, 15, 16, 17],\n",
       "       [20, 21, 22, 23]])"
      ]
     },
     "execution_count": 24,
     "metadata": {},
     "output_type": "execute_result"
    }
   ],
   "source": [
    "ar56[1:4,1:5] #getting element 1 to 4th rows from both columns 1 to 5"
   ]
  },
  {
   "cell_type": "code",
   "execution_count": 25,
   "id": "a88c5986",
   "metadata": {},
   "outputs": [
    {
     "data": {
      "text/plain": [
       "array([ 7,  9, 11, 13, 15])"
      ]
     },
     "execution_count": 25,
     "metadata": {},
     "output_type": "execute_result"
    }
   ],
   "source": [
    "#basic operation with array \n",
    "#addition\n",
    "x=np.array([1,2,3,4,5])\n",
    "y=np.array([6,7,8,9,10])\n",
    "z=np.add(x,y)\n",
    "z # uses the concepts of matrix addition "
   ]
  },
  {
   "cell_type": "code",
   "execution_count": 26,
   "id": "a364e4af",
   "metadata": {},
   "outputs": [
    {
     "data": {
      "text/plain": [
       "array([ 6, 14, 24, 36, 50])"
      ]
     },
     "execution_count": 26,
     "metadata": {},
     "output_type": "execute_result"
    }
   ],
   "source": [
    "#multiplication\n",
    "z1=np.multiply(x,y)\n",
    "z1#same concepts of matrix multiplication"
   ]
  },
  {
   "cell_type": "code",
   "execution_count": 27,
   "id": "e39e883c",
   "metadata": {},
   "outputs": [
    {
     "data": {
      "text/plain": [
       "array([0.16666667, 0.28571429, 0.375     , 0.44444444, 0.5       ])"
      ]
     },
     "execution_count": 27,
     "metadata": {},
     "output_type": "execute_result"
    }
   ],
   "source": [
    "z2=np.divide(x,y)\n",
    "z2#same concepts of matrix division"
   ]
  },
  {
   "cell_type": "code",
   "execution_count": 28,
   "id": "6d29ae29",
   "metadata": {},
   "outputs": [
    {
     "data": {
      "text/plain": [
       "array([  2.71828183,   7.3890561 ,  20.08553692,  54.59815003,\n",
       "       148.4131591 ])"
      ]
     },
     "execution_count": 28,
     "metadata": {},
     "output_type": "execute_result"
    }
   ],
   "source": [
    "z3=np.exp(x)\n",
    "z3"
   ]
  },
  {
   "cell_type": "code",
   "execution_count": 29,
   "id": "36daccab",
   "metadata": {},
   "outputs": [
    {
     "data": {
      "text/plain": [
       "array([0.        , 0.69314718, 1.09861229, 1.38629436, 1.60943791])"
      ]
     },
     "execution_count": 29,
     "metadata": {},
     "output_type": "execute_result"
    }
   ],
   "source": [
    "z4=np.log(x)\n",
    "z4"
   ]
  },
  {
   "cell_type": "code",
   "execution_count": 30,
   "id": "8b6435d3",
   "metadata": {},
   "outputs": [
    {
     "data": {
      "text/plain": [
       "array([ 0.84147098,  0.90929743,  0.14112001, -0.7568025 , -0.95892427])"
      ]
     },
     "execution_count": 30,
     "metadata": {},
     "output_type": "execute_result"
    }
   ],
   "source": [
    "z5=np.sin(x)\n",
    "z5"
   ]
  },
  {
   "cell_type": "code",
   "execution_count": 57,
   "id": "5eea70f2",
   "metadata": {},
   "outputs": [],
   "source": [
    "#assignment find another 6 mrthods not done in class "
   ]
  },
  {
   "cell_type": "code",
   "execution_count": 31,
   "id": "acba07e9",
   "metadata": {},
   "outputs": [
    {
     "data": {
      "text/plain": [
       "15"
      ]
     },
     "execution_count": 31,
     "metadata": {},
     "output_type": "execute_result"
    }
   ],
   "source": [
    "#sum mean max min std var\n",
    "x.sum()"
   ]
  },
  {
   "cell_type": "code",
   "execution_count": 32,
   "id": "1c580ce3",
   "metadata": {},
   "outputs": [
    {
     "data": {
      "text/plain": [
       "3.0"
      ]
     },
     "execution_count": 32,
     "metadata": {},
     "output_type": "execute_result"
    }
   ],
   "source": [
    "x.mean()"
   ]
  },
  {
   "cell_type": "code",
   "execution_count": 33,
   "id": "c628df04",
   "metadata": {},
   "outputs": [
    {
     "data": {
      "text/plain": [
       "1.4142135623730951"
      ]
     },
     "execution_count": 33,
     "metadata": {},
     "output_type": "execute_result"
    }
   ],
   "source": [
    "x.std()"
   ]
  },
  {
   "cell_type": "code",
   "execution_count": 34,
   "id": "c76c2bc9",
   "metadata": {},
   "outputs": [
    {
     "data": {
      "text/plain": [
       "2.0"
      ]
     },
     "execution_count": 34,
     "metadata": {},
     "output_type": "execute_result"
    }
   ],
   "source": [
    "x.var()"
   ]
  },
  {
   "cell_type": "code",
   "execution_count": 35,
   "id": "692f8034",
   "metadata": {},
   "outputs": [
    {
     "data": {
      "text/plain": [
       "5"
      ]
     },
     "execution_count": 35,
     "metadata": {},
     "output_type": "execute_result"
    }
   ],
   "source": [
    "x.max()"
   ]
  },
  {
   "cell_type": "code",
   "execution_count": 36,
   "id": "f8d61000",
   "metadata": {},
   "outputs": [],
   "source": [
    "#...............broadcasting.....................\n"
   ]
  },
  {
   "cell_type": "code",
   "execution_count": 37,
   "id": "50e15910",
   "metadata": {},
   "outputs": [
    {
     "data": {
      "text/plain": [
       "array([0, 1, 2, 3, 4, 5])"
      ]
     },
     "execution_count": 37,
     "metadata": {},
     "output_type": "execute_result"
    }
   ],
   "source": [
    "#for one dimensional array  \n",
    "a1d=np.arange(6)\n",
    "a1d"
   ]
  },
  {
   "cell_type": "code",
   "execution_count": 38,
   "id": "4aea7b45",
   "metadata": {},
   "outputs": [
    {
     "data": {
      "text/plain": [
       "array([ 5,  6,  7,  8,  9, 10])"
      ]
     },
     "execution_count": 38,
     "metadata": {},
     "output_type": "execute_result"
    }
   ],
   "source": [
    "y=a1d+5\n",
    "y"
   ]
  },
  {
   "cell_type": "code",
   "execution_count": 39,
   "id": "50f43703",
   "metadata": {},
   "outputs": [
    {
     "data": {
      "text/plain": [
       "array([ 0,  5, 10, 15, 20, 25])"
      ]
     },
     "execution_count": 39,
     "metadata": {},
     "output_type": "execute_result"
    }
   ],
   "source": [
    "z=a1d*5\n",
    "z"
   ]
  },
  {
   "cell_type": "code",
   "execution_count": 40,
   "id": "ddd68e17",
   "metadata": {},
   "outputs": [
    {
     "data": {
      "text/plain": [
       "array([0. , 0.2, 0.4, 0.6, 0.8, 1. ])"
      ]
     },
     "execution_count": 40,
     "metadata": {},
     "output_type": "execute_result"
    }
   ],
   "source": [
    "z1=a1d/5\n",
    "z1"
   ]
  },
  {
   "cell_type": "code",
   "execution_count": null,
   "id": "d56c0802",
   "metadata": {},
   "outputs": [],
   "source": []
  }
 ],
 "metadata": {
  "kernelspec": {
   "display_name": "Python 3 (ipykernel)",
   "language": "python",
   "name": "python3"
  },
  "language_info": {
   "codemirror_mode": {
    "name": "ipython",
    "version": 3
   },
   "file_extension": ".py",
   "mimetype": "text/x-python",
   "name": "python",
   "nbconvert_exporter": "python",
   "pygments_lexer": "ipython3",
   "version": "3.12.3"
  }
 },
 "nbformat": 4,
 "nbformat_minor": 5
}
