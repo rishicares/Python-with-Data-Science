{
 "cells": [
  {
   "cell_type": "markdown",
   "metadata": {},
   "source": [
    "<h1>OOP</h1>"
   ]
  },
  {
   "cell_type": "markdown",
   "metadata": {},
   "source": [
    " - class\n",
    " - attributes:\n",
    " - methods()"
   ]
  },
  {
   "cell_type": "markdown",
   "metadata": {},
   "source": [
    "### 4 Pillars of OOP\n",
    " - Encapsulation (public, private, protected)\n",
    " - Abstraction\n",
    " - Inheritance\n",
    " - Polymorphism (overwriting, overloading)"
   ]
  },
  {
   "cell_type": "code",
   "execution_count": 9,
   "metadata": {},
   "outputs": [
    {
     "name": "stdout",
     "output_type": "stream",
     "text": [
      "this is a demo display\n"
     ]
    }
   ],
   "source": [
    "class Demo():\n",
    "    def __init__(self,name):\n",
    "        self.name=name\n",
    "    def display(self):\n",
    "        print(\"this is a demo display\")\n",
    "\n",
    "obj = Demo(\"Rijan\")\n",
    "obj.display()"
   ]
  },
  {
   "cell_type": "code",
   "execution_count": 19,
   "metadata": {},
   "outputs": [
    {
     "name": "stdout",
     "output_type": "stream",
     "text": [
      "Thar is a Diesel engine car made my Mahindra.\n"
     ]
    }
   ],
   "source": [
    "# create a class called vehicle with at least 3 attributes and 2 methods\n",
    "\n",
    "class Vehicle():\n",
    "    def __init__(self, brand, model, engine):\n",
    "        self.brand = brand\n",
    "        self.model = model\n",
    "        self.engine = engine\n",
    "\n",
    "    def display(self):\n",
    "        print(f\"{self.model} is a {self.engine} engine car made my {self.brand}.\")\n",
    "    \n",
    "obj = Vehicle(\"Mahindra\", \"Thar\", \"Diesel\")\n",
    "obj.display()"
   ]
  },
  {
   "cell_type": "markdown",
   "metadata": {},
   "source": [
    "## Inheritance\n"
   ]
  },
  {
   "cell_type": "code",
   "execution_count": 34,
   "metadata": {},
   "outputs": [
    {
     "name": "stdout",
     "output_type": "stream",
     "text": [
      "Bajaj Discover made in 2019 with serial number 11171 and runs on Petrol.\n",
      "Model:  Discover\n",
      "Company Name:  Bajaj\n",
      "Make Year:  2019\n",
      "Serial Number:  11171\n",
      "Fuel:  Petrol\n",
      " \n",
      "Honda Activa made in 2018 with serial number 46490 and runs on Petrol.\n",
      "Model:  Activa\n",
      "Company Name:  Honda\n",
      "Make Year:  2018\n",
      "Serial Number:  46490\n",
      "Fuel:  Petrol\n"
     ]
    }
   ],
   "source": [
    "import random\n",
    "class Vekal():\n",
    "    def __init__(self, makeYear, model):\n",
    "        self.makeYear = makeYear\n",
    "        self.model = model\n",
    "        self.s_number = self.get_number()\n",
    "    def get_number(self):\n",
    "        snum = random.randint(10000,99999)\n",
    "        return snum\n",
    "\n",
    "class Bajaj(Vekal):\n",
    "    def __init__(self, makeYear, model, company=\"Bajaj\", fuel=\"Petrol\"):\n",
    "        super().__init__(makeYear, model)\n",
    "        self.company=company\n",
    "        self.fuel=fuel\n",
    "    def display_info(self):\n",
    "        print(f\"{self.company} {self.model} made in {self.makeYear} with serial number {self.s_number} and runs on {self.fuel}.\")\n",
    "        print(\"Model: \", self.model)\n",
    "        print(\"Company Name: \", self.company)\n",
    "        print(\"Make Year: \", self.makeYear)\n",
    "        print(\"Serial Number: \", self.s_number)\n",
    "        print(\"Fuel: \", self.fuel)\n",
    "\n",
    "class Honda(Vekal):\n",
    "    def __init__(self, makeYear, model, company=\"Honda\", fuel=\"Petrol\"):\n",
    "        super().__init__(makeYear, model)\n",
    "        self.company=company\n",
    "        self.fuel=fuel\n",
    "    def display_info(self):\n",
    "        print(f\"{self.company} {self.model} made in {self.makeYear} with serial number {self.s_number} and runs on {self.fuel}.\")\n",
    "        print(\"Model: \", self.model)\n",
    "        print(\"Company Name: \", self.company)\n",
    "        print(\"Make Year: \", self.makeYear)\n",
    "        print(\"Serial Number: \", self.s_number)\n",
    "        print(\"Fuel: \", self.fuel)\n",
    "\n",
    "discover = Bajaj(2019, \"Discover\")\n",
    "discover.display_info()\n",
    "print(\" \")\n",
    "activa = Honda(2018, \"Activa\")\n",
    "activa.display_info()\n"
   ]
  },
  {
   "cell_type": "code",
   "execution_count": null,
   "metadata": {},
   "outputs": [],
   "source": []
  }
 ],
 "metadata": {
  "kernelspec": {
   "display_name": "Python 3",
   "language": "python",
   "name": "python3"
  },
  "language_info": {
   "codemirror_mode": {
    "name": "ipython",
    "version": 3
   },
   "file_extension": ".py",
   "mimetype": "text/x-python",
   "name": "python",
   "nbconvert_exporter": "python",
   "pygments_lexer": "ipython3",
   "version": "3.12.3"
  }
 },
 "nbformat": 4,
 "nbformat_minor": 2
}
