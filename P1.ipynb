{
 "cells": [
  {
   "cell_type": "code",
   "execution_count": 7,
   "metadata": {},
   "outputs": [
    {
     "name": "stdout",
     "output_type": "stream",
     "text": [
      "['Ram', 'Ranjana']\n",
      "['Rashid', 'Ramesh', 'Rejina']\n"
     ]
    }
   ],
   "source": [
    "name = [\"Ram\",\"Rashid\",\"Ranjana\", \"Ramesh\",\"Rejina\"]\n",
    "\n",
    "\n",
    "\n",
    "def checkname(a):\n",
    "    odd = []\n",
    "    even = []\n",
    "\n",
    "    if len(a)%2 == 0:\n",
    "        even.append(a)\n",
    "    else:\n",
    "        odd.append(a)\n",
    "\n",
    "    return even, odd\n",
    "\n",
    "\n",
    "for i in name:\n",
    "    checkname(i)\n",
    "\n",
    "print(odd)\n",
    "print(even)"
   ]
  },
  {
   "cell_type": "code",
   "execution_count": 8,
   "metadata": {},
   "outputs": [
    {
     "name": "stdout",
     "output_type": "stream",
     "text": [
      "The Scorpio by Mahindra is a Diesel car.\n"
     ]
    }
   ],
   "source": [
    "#single inheritance example\n",
    "class A:\n",
    "    def __init__(self, brand, typ):\n",
    "        self.brand = brand\n",
    "        self.typ = typ\n",
    "class B(A):\n",
    "    def __init__(self, brand, typ, model):\n",
    "        self.model = model\n",
    "        self.brand = brand\n",
    "        self.typ = typ\n",
    "    \n",
    "    def display(self):\n",
    "        print(f\"The {self.model} by {self.brand} is a {self.typ} car.\")\n",
    "\n",
    "\n",
    "car = B(\"Mahindra\", \"Diesel\", \"Scorpio\")\n",
    "car.display()\n"
   ]
  },
  {
   "cell_type": "code",
   "execution_count": 20,
   "metadata": {},
   "outputs": [
    {
     "name": "stdout",
     "output_type": "stream",
     "text": [
      "(8i + 10j + 12k)\n"
     ]
    }
   ],
   "source": [
    "class Vector:\n",
    "    def __init__(self, i, j,k):\n",
    "        self.i = i\n",
    "        self.j = j\n",
    "        self.k = k\n",
    "    def __add__(self, other):\n",
    "        return Vector(self.i + other.i, self.j + other.j, self.k + other.k)\n",
    "    def __str__(self):\n",
    "        return f\"({self.i}i + {self.j}j + {self.k}k)\"\n",
    "    \n",
    "r = Vector(1,2,3)\n",
    "s = Vector(7,8,9)\n",
    "\n",
    "print(r+s)\n",
    "\n"
   ]
  },
  {
   "cell_type": "code",
   "execution_count": 21,
   "metadata": {},
   "outputs": [],
   "source": [
    "# multiple, multilevel, hierarchial, hybrid\n",
    "# do example for each"
   ]
  },
  {
   "cell_type": "code",
   "execution_count": 2,
   "metadata": {},
   "outputs": [
    {
     "name": "stdout",
     "output_type": "stream",
     "text": [
      "Dog is a Carnivorous of breed Labrador\n"
     ]
    }
   ],
   "source": [
    "class Animal:\n",
    "    def __init__(self, name):\n",
    "        self.name = name\n",
    "class Mammal(Animal):\n",
    "    def __init__(self, name, typ):\n",
    "        self.typ = typ\n",
    "        self.name = name\n",
    "class Domestic(Mammal):\n",
    "    def __init__(self, name, typ, breed):\n",
    "        self.breed = breed\n",
    "        self.typ = typ\n",
    "        self.name = name\n",
    "    def display(self):\n",
    "        print(f\"{self.name} is a {self.typ} of breed {self.breed}\")\n",
    "\n",
    "labrador = Domestic('Dog','Carnivorous','Labrador')\n",
    "labrador.display()"
   ]
  },
  {
   "cell_type": "code",
   "execution_count": 3,
   "metadata": {},
   "outputs": [
    {
     "name": "stdout",
     "output_type": "stream",
     "text": [
      "Dog is a Carnivorous of breed labrador\n"
     ]
    }
   ],
   "source": [
    "# multiple inheritance\n",
    "class A:\n",
    "    def __init__(self, name):\n",
    "        self.name = name\n",
    "class B:\n",
    "    def __init__(self, typ):\n",
    "        self.typ = typ\n",
    "class C(A,B):\n",
    "    def __init__(self, name, typ, breed):\n",
    "        self.name = name\n",
    "        self.typ = typ\n",
    "        self.breed = breed\n",
    "    def display(self):\n",
    "        print(f\"{self.name} is a {self.typ} of breed {self.breed}\")\n",
    "\n",
    "labrador = C('Dog','Carnivorous','labrador')\n",
    "labrador.display()"
   ]
  },
  {
   "cell_type": "code",
   "execution_count": 4,
   "metadata": {},
   "outputs": [
    {
     "name": "stdout",
     "output_type": "stream",
     "text": [
      "Dog is a Carnivorous of breed labrador\n"
     ]
    }
   ],
   "source": [
    "# hybrid inheritance\n",
    "class A:\n",
    "    def __init__(self, name):\n",
    "        self.name = name\n",
    "class B(A):\n",
    "    def __init__(self, name, typ):\n",
    "        self.typ = typ\n",
    "        self.name = name\n",
    "class C(A):\n",
    "    def __init__(self, name, typ, breed):\n",
    "        self.breed = breed\n",
    "        self.name = name\n",
    "class D(B,C):\n",
    "    def __init__(self, name, typ, breed):\n",
    "        self.name = name\n",
    "        self.typ = typ\n",
    "        self.breed = breed\n",
    "    def display(self):\n",
    "        print(f\"{self.name} is a {self.typ} of breed {self.breed}\")\n",
    "\n",
    "labrador = D('Dog','Carnivorous','labrador')\n",
    "labrador.display()"
   ]
  },
  {
   "cell_type": "code",
   "execution_count": 6,
   "metadata": {},
   "outputs": [
    {
     "name": "stdout",
     "output_type": "stream",
     "text": [
      "Dog is a Labrador found in Nepal\n",
      "Dog is a Carnivorous and 50 are available\n"
     ]
    }
   ],
   "source": [
    "# hierarchial ingeritance\n",
    "class A:\n",
    "    def __init__(self, name):\n",
    "        self.name = name\n",
    "\n",
    "class B:\n",
    "    def __init__(self, name, typ):\n",
    "        self.name = name\n",
    "        self.typ = typ\n",
    "class C:\n",
    "    def __init__(self, name, breed):\n",
    "        self.name = name\n",
    "        self.breed = breed\n",
    "class D(B):\n",
    "    def __init__(self, name, typ, numb):\n",
    "        self.name = name\n",
    "        self.typ = typ\n",
    "        self.numb = numb\n",
    "    def display(self):\n",
    "        print(f\"{self.name} is a {self.typ} and {self.numb} are available\")\n",
    "\n",
    "class E(C):\n",
    "    def __init__(self, name, breed, location):\n",
    "        self.name = name\n",
    "        self.breed = breed\n",
    "        self.location = location\n",
    "    def display(self):\n",
    "        print(f\"{self.name} is a {self.breed} found in {self.location}\")\n",
    "\n",
    "labrador = E(\"Dog\",\"Labrador\",\"Nepal\")\n",
    "labrador.display()\n",
    "\n",
    "shephard = D(\"Dog\",\"Carnivorous\",50)\n",
    "shephard.display()\n"
   ]
  },
  {
   "cell_type": "code",
   "execution_count": 13,
   "metadata": {},
   "outputs": [
    {
     "name": "stdout",
     "output_type": "stream",
     "text": [
      "Division is done\n"
     ]
    },
    {
     "ename": "TypeError",
     "evalue": "unsupported operand type(s) for /: 'int' and 'str'",
     "output_type": "error",
     "traceback": [
      "\u001b[1;31m---------------------------------------------------------------------------\u001b[0m",
      "\u001b[1;31mTypeError\u001b[0m                                 Traceback (most recent call last)",
      "Cell \u001b[1;32mIn[13], line 11\u001b[0m\n\u001b[0;32m      8\u001b[0m         \u001b[38;5;28;01mreturn\u001b[39;00m a\u001b[38;5;241m/\u001b[39mb\n\u001b[0;32m     10\u001b[0m \u001b[38;5;28;01mtry\u001b[39;00m:\n\u001b[1;32m---> 11\u001b[0m     div \u001b[38;5;241m=\u001b[39m \u001b[43mdivision\u001b[49m\u001b[43m(\u001b[49m\u001b[38;5;241;43m58\u001b[39;49m\u001b[43m,\u001b[49m\u001b[38;5;124;43m'\u001b[39;49m\u001b[38;5;124;43masdf\u001b[39;49m\u001b[38;5;124;43m'\u001b[39;49m\u001b[43m)\u001b[49m\n\u001b[0;32m     12\u001b[0m \u001b[38;5;28;01mexcept\u001b[39;00m \u001b[38;5;167;01mValueError\u001b[39;00m \u001b[38;5;28;01mas\u001b[39;00m e:\n\u001b[0;32m     13\u001b[0m     \u001b[38;5;28mprint\u001b[39m(e)\n",
      "Cell \u001b[1;32mIn[13], line 8\u001b[0m, in \u001b[0;36mdivision\u001b[1;34m(a, b)\u001b[0m\n\u001b[0;32m      6\u001b[0m     \u001b[38;5;28;01mraise\u001b[39;00m \u001b[38;5;167;01mValueError\u001b[39;00m(\u001b[38;5;124m\"\u001b[39m\u001b[38;5;124mdivisor can not be zero\u001b[39m\u001b[38;5;124m\"\u001b[39m)\n\u001b[0;32m      7\u001b[0m \u001b[38;5;28;01melse\u001b[39;00m:\n\u001b[1;32m----> 8\u001b[0m     \u001b[38;5;28;01mreturn\u001b[39;00m \u001b[43ma\u001b[49m\u001b[38;5;241;43m/\u001b[39;49m\u001b[43mb\u001b[49m\n",
      "\u001b[1;31mTypeError\u001b[0m: unsupported operand type(s) for /: 'int' and 'str'"
     ]
    }
   ],
   "source": [
    "# Error handling\n",
    "#Division\n",
    "\n",
    "def division(a,b):\n",
    "    if (b == 0):\n",
    "        raise ValueError(\"divisor can not be zero\")\n",
    "    else:\n",
    "        return a/b\n",
    "    \n",
    "    try:\n",
    "        div = division(a,b)\n",
    "    except ValueError as e:\n",
    "        print(e)\n",
    "    else:\n",
    "        print(div)\n",
    "    finally:\n",
    "        print(\"Division is done\")\n",
    "\n",
    "division(5,'asd')"
   ]
  },
  {
   "cell_type": "code",
   "execution_count": null,
   "metadata": {},
   "outputs": [],
   "source": []
  }
 ],
 "metadata": {
  "kernelspec": {
   "display_name": "Python 3",
   "language": "python",
   "name": "python3"
  },
  "language_info": {
   "codemirror_mode": {
    "name": "ipython",
    "version": 3
   },
   "file_extension": ".py",
   "mimetype": "text/x-python",
   "name": "python",
   "nbconvert_exporter": "python",
   "pygments_lexer": "ipython3",
   "version": "3.12.3"
  }
 },
 "nbformat": 4,
 "nbformat_minor": 2
}
