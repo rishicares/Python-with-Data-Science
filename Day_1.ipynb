{
  "nbformat": 4,
  "nbformat_minor": 0,
  "metadata": {
    "colab": {
      "provenance": [],
      "authorship_tag": "ABX9TyOkMnbX/SKAytccdrAoyOL/",
      "include_colab_link": true
    },
    "kernelspec": {
      "name": "python3",
      "display_name": "Python 3"
    },
    "language_info": {
      "name": "python"
    }
  },
  "cells": [
    {
      "cell_type": "markdown",
      "metadata": {
        "id": "view-in-github",
        "colab_type": "text"
      },
      "source": [
        "<a href=\"https://colab.research.google.com/github/rishicares/Python-with-Data-Science/blob/main/Day_1.ipynb\" target=\"_parent\"><img src=\"https://colab.research.google.com/assets/colab-badge.svg\" alt=\"Open In Colab\"/></a>"
      ]
    },
    {
      "cell_type": "code",
      "execution_count": null,
      "metadata": {
        "id": "YXS47UwGd5dN"
      },
      "outputs": [],
      "source": [
        "num = list('sagarmatha')"
      ]
    },
    {
      "cell_type": "code",
      "source": [
        "num\n"
      ],
      "metadata": {
        "colab": {
          "base_uri": "https://localhost:8080/"
        },
        "id": "Y18Tj7Y2eG90",
        "outputId": "9d48f763-93c8-42e6-bbd8-30eb1ee8c445"
      },
      "execution_count": null,
      "outputs": [
        {
          "output_type": "execute_result",
          "data": {
            "text/plain": [
              "['s', 'a', 'g', 'a', 'r', 'm', 'a', 't', 'h', 'a']"
            ]
          },
          "metadata": {},
          "execution_count": 4
        }
      ]
    },
    {
      "cell_type": "markdown",
      "source": [
        "# Methods  in list\n",
        "add()\n",
        "sort()\n",
        "reverse()\n",
        "append()\n",
        "extend()\n",
        "pop()\n",
        "insert()\n",
        "remove()"
      ],
      "metadata": {
        "id": "8TG25YSUgZKF"
      }
    },
    {
      "cell_type": "code",
      "source": [
        "x = [1, 2, 3, 4, 5]"
      ],
      "metadata": {
        "id": "G8o49P5YgX8f"
      },
      "execution_count": null,
      "outputs": []
    },
    {
      "cell_type": "code",
      "source": [
        "x.insert(2,'new item')"
      ],
      "metadata": {
        "id": "P5a2d3jJhTDZ"
      },
      "execution_count": null,
      "outputs": []
    },
    {
      "cell_type": "code",
      "source": [
        "x"
      ],
      "metadata": {
        "colab": {
          "base_uri": "https://localhost:8080/"
        },
        "id": "vjkIxu7EhX8r",
        "outputId": "5c4534be-0b22-485a-af8d-27d92010bc1f"
      },
      "execution_count": null,
      "outputs": [
        {
          "output_type": "execute_result",
          "data": {
            "text/plain": [
              "[1, 2, 'new item', 3, 4, 5]"
            ]
          },
          "metadata": {},
          "execution_count": 7
        }
      ]
    },
    {
      "cell_type": "code",
      "source": [
        "x.remove('new item')"
      ],
      "metadata": {
        "id": "q0o8veslhZlM"
      },
      "execution_count": null,
      "outputs": []
    },
    {
      "cell_type": "code",
      "source": [
        "x"
      ],
      "metadata": {
        "colab": {
          "base_uri": "https://localhost:8080/"
        },
        "id": "pgR1ZAzshhLr",
        "outputId": "78944899-6da5-4ec2-ed1c-45561465e83d"
      },
      "execution_count": null,
      "outputs": [
        {
          "output_type": "execute_result",
          "data": {
            "text/plain": [
              "[1, 2, 3, 4, 5]"
            ]
          },
          "metadata": {},
          "execution_count": 9
        }
      ]
    },
    {
      "cell_type": "code",
      "source": [
        "x.append('content')"
      ],
      "metadata": {
        "id": "oBtcKLsDhhzj"
      },
      "execution_count": null,
      "outputs": []
    },
    {
      "cell_type": "code",
      "source": [
        "x.pop()"
      ],
      "metadata": {
        "colab": {
          "base_uri": "https://localhost:8080/",
          "height": 35
        },
        "id": "OtU_1FnBhlJl",
        "outputId": "7d90e3c7-f6c3-441e-9b66-e47b64183ab3"
      },
      "execution_count": null,
      "outputs": [
        {
          "output_type": "execute_result",
          "data": {
            "text/plain": [
              "'content'"
            ],
            "application/vnd.google.colaboratory.intrinsic+json": {
              "type": "string"
            }
          },
          "metadata": {},
          "execution_count": 11
        }
      ]
    },
    {
      "cell_type": "code",
      "source": [
        "x"
      ],
      "metadata": {
        "colab": {
          "base_uri": "https://localhost:8080/"
        },
        "id": "b6zDAcK6hm0F",
        "outputId": "14f216a7-c8ac-4454-e86b-04de1cf1d57b"
      },
      "execution_count": null,
      "outputs": [
        {
          "output_type": "execute_result",
          "data": {
            "text/plain": [
              "[1, 2, 3, 4, 5]"
            ]
          },
          "metadata": {},
          "execution_count": 12
        }
      ]
    },
    {
      "cell_type": "code",
      "source": [
        "y = [1,4,2,5,3,9,10,6]"
      ],
      "metadata": {
        "id": "UVNi-bXShnyv"
      },
      "execution_count": null,
      "outputs": []
    },
    {
      "cell_type": "code",
      "source": [
        "y"
      ],
      "metadata": {
        "colab": {
          "base_uri": "https://localhost:8080/"
        },
        "id": "27cYFNr9hx8_",
        "outputId": "5c14b59c-f19c-4abc-b109-2b911d194676"
      },
      "execution_count": null,
      "outputs": [
        {
          "output_type": "execute_result",
          "data": {
            "text/plain": [
              "[1, 4, 2, 5, 3, 9, 10, 6]"
            ]
          },
          "metadata": {},
          "execution_count": 14
        }
      ]
    },
    {
      "cell_type": "code",
      "source": [
        "y.reverse()\n"
      ],
      "metadata": {
        "id": "NPW35ZqPhy7o"
      },
      "execution_count": null,
      "outputs": []
    },
    {
      "cell_type": "code",
      "source": [
        "y"
      ],
      "metadata": {
        "colab": {
          "base_uri": "https://localhost:8080/"
        },
        "id": "spFZcr2bh1aa",
        "outputId": "1fdaeaa5-5f19-45c3-d926-709aaf845485"
      },
      "execution_count": null,
      "outputs": [
        {
          "output_type": "execute_result",
          "data": {
            "text/plain": [
              "[6, 10, 9, 3, 5, 2, 4, 1]"
            ]
          },
          "metadata": {},
          "execution_count": 16
        }
      ]
    },
    {
      "cell_type": "code",
      "source": [
        "y.sort(reverse=True)"
      ],
      "metadata": {
        "id": "ek3OArhmh2IY"
      },
      "execution_count": null,
      "outputs": []
    },
    {
      "cell_type": "code",
      "source": [
        "y"
      ],
      "metadata": {
        "colab": {
          "base_uri": "https://localhost:8080/"
        },
        "id": "tluSKHg_h9Mv",
        "outputId": "8b7dd668-ade3-426b-cb1b-076bba0876c4"
      },
      "execution_count": null,
      "outputs": [
        {
          "output_type": "execute_result",
          "data": {
            "text/plain": [
              "[10, 9, 6, 5, 4, 3, 2, 1]"
            ]
          },
          "metadata": {},
          "execution_count": 18
        }
      ]
    },
    {
      "cell_type": "code",
      "source": [
        "len(y)"
      ],
      "metadata": {
        "colab": {
          "base_uri": "https://localhost:8080/"
        },
        "id": "ZSdiFsDYh-Di",
        "outputId": "6140f724-d2fb-4599-cda9-c01bd3d03cc0"
      },
      "execution_count": null,
      "outputs": [
        {
          "output_type": "execute_result",
          "data": {
            "text/plain": [
              "8"
            ]
          },
          "metadata": {},
          "execution_count": 19
        }
      ]
    },
    {
      "cell_type": "code",
      "source": [
        "y"
      ],
      "metadata": {
        "colab": {
          "base_uri": "https://localhost:8080/"
        },
        "id": "pdrxFdnziAKn",
        "outputId": "915a3d7f-aeb3-401d-df75-218626177a57"
      },
      "execution_count": null,
      "outputs": [
        {
          "output_type": "execute_result",
          "data": {
            "text/plain": [
              "[10, 9, 6, 5, 4, 3, 2, 1]"
            ]
          },
          "metadata": {},
          "execution_count": 20
        }
      ]
    },
    {
      "cell_type": "code",
      "source": [
        "15 in y"
      ],
      "metadata": {
        "colab": {
          "base_uri": "https://localhost:8080/"
        },
        "id": "kaB8wa9eiKEw",
        "outputId": "f44164df-9f10-4d27-be1a-a1252835240e"
      },
      "execution_count": null,
      "outputs": [
        {
          "output_type": "execute_result",
          "data": {
            "text/plain": [
              "False"
            ]
          },
          "metadata": {},
          "execution_count": 21
        }
      ]
    },
    {
      "cell_type": "code",
      "source": [
        "10 in y"
      ],
      "metadata": {
        "colab": {
          "base_uri": "https://localhost:8080/"
        },
        "id": "dMtVj135iNLN",
        "outputId": "a264cb67-3c91-45d0-80a7-f4fa2820d2c7"
      },
      "execution_count": null,
      "outputs": [
        {
          "output_type": "execute_result",
          "data": {
            "text/plain": [
              "True"
            ]
          },
          "metadata": {},
          "execution_count": 22
        }
      ]
    },
    {
      "cell_type": "code",
      "source": [
        "10 not in y"
      ],
      "metadata": {
        "colab": {
          "base_uri": "https://localhost:8080/"
        },
        "id": "hXl3GRvhiOYD",
        "outputId": "8aa74b3b-4b38-41d4-f26d-7ce47a0a09d5"
      },
      "execution_count": null,
      "outputs": [
        {
          "output_type": "execute_result",
          "data": {
            "text/plain": [
              "False"
            ]
          },
          "metadata": {},
          "execution_count": 23
        }
      ]
    },
    {
      "cell_type": "markdown",
      "source": [
        "Lambda\n"
      ],
      "metadata": {
        "id": "77sT_Wtxijbl"
      }
    },
    {
      "cell_type": "code",
      "source": [
        "number=[5,10,12,16,21,25,30,35,31,55]\n",
        "#list of odd number\n",
        "odd=[]\n",
        "for x in number:\n",
        "  if (x%2!=0):\n",
        "    odd.append(x)"
      ],
      "metadata": {
        "id": "uQ823xzDinKk"
      },
      "execution_count": null,
      "outputs": []
    },
    {
      "cell_type": "code",
      "source": [
        "odd"
      ],
      "metadata": {
        "colab": {
          "base_uri": "https://localhost:8080/"
        },
        "id": "CMN8QFd7iukG",
        "outputId": "0d1fcda5-2721-403f-9f9a-63f8b7b2276c"
      },
      "execution_count": null,
      "outputs": [
        {
          "output_type": "execute_result",
          "data": {
            "text/plain": [
              "[5, 21, 25, 35, 31, 55]"
            ]
          },
          "metadata": {},
          "execution_count": 26
        }
      ]
    },
    {
      "cell_type": "code",
      "source": [
        "# list_name=[expression loop condition]\n",
        "# list_name=[expression loop]"
      ],
      "metadata": {
        "id": "9feIObZwjDrQ"
      },
      "execution_count": null,
      "outputs": []
    },
    {
      "cell_type": "code",
      "source": [
        "number"
      ],
      "metadata": {
        "colab": {
          "base_uri": "https://localhost:8080/"
        },
        "id": "9sEZFV_ZjJjA",
        "outputId": "87e053b0-2baa-49ad-99e4-4c03420be0e0"
      },
      "execution_count": null,
      "outputs": [
        {
          "output_type": "execute_result",
          "data": {
            "text/plain": [
              "[5, 10, 12, 16, 21, 25, 30, 35, 31, 55]"
            ]
          },
          "metadata": {},
          "execution_count": 28
        }
      ]
    },
    {
      "cell_type": "code",
      "source": [
        "odd=[x for x in number if (x%2!=0)]"
      ],
      "metadata": {
        "id": "WwjWQDOxjQ7j"
      },
      "execution_count": null,
      "outputs": []
    },
    {
      "cell_type": "code",
      "source": [
        "odd"
      ],
      "metadata": {
        "colab": {
          "base_uri": "https://localhost:8080/"
        },
        "id": "ehXBKbLfje0Y",
        "outputId": "f7ed1332-d8a1-4e3f-88a3-07e2ebfa2920"
      },
      "execution_count": null,
      "outputs": [
        {
          "output_type": "execute_result",
          "data": {
            "text/plain": [
              "[5, 21, 25, 35, 31, 55]"
            ]
          },
          "metadata": {},
          "execution_count": 30
        }
      ]
    },
    {
      "cell_type": "code",
      "source": [
        "num = list(range(1,11))"
      ],
      "metadata": {
        "id": "vhONIHBZjgMw"
      },
      "execution_count": null,
      "outputs": []
    },
    {
      "cell_type": "code",
      "source": [
        "num"
      ],
      "metadata": {
        "colab": {
          "base_uri": "https://localhost:8080/"
        },
        "id": "ATQbosRTjyPB",
        "outputId": "30865586-b9ac-4122-98e0-820e98ffb42d"
      },
      "execution_count": null,
      "outputs": [
        {
          "output_type": "execute_result",
          "data": {
            "text/plain": [
              "[1, 2, 3, 4, 5, 6, 7, 8, 9, 10]"
            ]
          },
          "metadata": {},
          "execution_count": 32
        }
      ]
    },
    {
      "cell_type": "code",
      "source": [
        "square =[x**2 for x in num]"
      ],
      "metadata": {
        "id": "3efD_JuWjziJ"
      },
      "execution_count": null,
      "outputs": []
    },
    {
      "cell_type": "code",
      "source": [
        "square"
      ],
      "metadata": {
        "colab": {
          "base_uri": "https://localhost:8080/"
        },
        "id": "PNrorVGVj_N7",
        "outputId": "0e5d69d0-c38e-43b8-82c6-65ced3d8027e"
      },
      "execution_count": null,
      "outputs": [
        {
          "output_type": "execute_result",
          "data": {
            "text/plain": [
              "[1, 4, 9, 16, 25, 36, 49, 64, 81, 100]"
            ]
          },
          "metadata": {},
          "execution_count": 34
        }
      ]
    },
    {
      "cell_type": "code",
      "source": [
        "sqr = [x**2 for x in range(1,11)]"
      ],
      "metadata": {
        "id": "zwqYqiKLkApB"
      },
      "execution_count": null,
      "outputs": []
    },
    {
      "cell_type": "code",
      "source": [
        "sqr"
      ],
      "metadata": {
        "colab": {
          "base_uri": "https://localhost:8080/"
        },
        "id": "kyWXo_WfkJH0",
        "outputId": "abc809d5-31dc-46ef-9eed-63c7e1ed1978"
      },
      "execution_count": null,
      "outputs": [
        {
          "output_type": "execute_result",
          "data": {
            "text/plain": [
              "[1, 4, 9, 16, 25, 36, 49, 64, 81, 100]"
            ]
          },
          "metadata": {},
          "execution_count": 36
        }
      ]
    },
    {
      "cell_type": "code",
      "source": [],
      "metadata": {
        "id": "pZLqpOXTkKLh"
      },
      "execution_count": null,
      "outputs": []
    },
    {
      "cell_type": "markdown",
      "source": [
        "#Tuples()"
      ],
      "metadata": {
        "id": "ND2hac9_kfxX"
      }
    },
    {
      "cell_type": "code",
      "source": [
        "()\n",
        "tuple()\n",
        "#converting other data type to tuple\n",
        "l=[1,2,3,4,5]\n",
        "t=tuple(l)"
      ],
      "metadata": {
        "id": "MrsBeFlZklUK"
      },
      "execution_count": null,
      "outputs": []
    },
    {
      "cell_type": "code",
      "source": [
        "t"
      ],
      "metadata": {
        "colab": {
          "base_uri": "https://localhost:8080/"
        },
        "id": "EH04tTHQkocN",
        "outputId": "9249d8fb-6c02-40be-b9a8-8b8c092af8ee"
      },
      "execution_count": null,
      "outputs": [
        {
          "output_type": "execute_result",
          "data": {
            "text/plain": [
              "(1, 2, 3, 4, 5)"
            ]
          },
          "metadata": {},
          "execution_count": 40
        }
      ]
    },
    {
      "cell_type": "code",
      "source": [
        "t = ()\n",
        "for x in range(0,11):\n",
        "  t+=(x,)"
      ],
      "metadata": {
        "id": "TnGm53FMk01Y"
      },
      "execution_count": null,
      "outputs": []
    },
    {
      "cell_type": "code",
      "source": [
        "t"
      ],
      "metadata": {
        "colab": {
          "base_uri": "https://localhost:8080/"
        },
        "id": "kYUPotEPlF-Q",
        "outputId": "f030c08b-4565-4d49-d4c4-3bd28e973156"
      },
      "execution_count": null,
      "outputs": [
        {
          "output_type": "execute_result",
          "data": {
            "text/plain": [
              "(0, 1, 2, 3, 4, 5, 6, 7, 8, 9, 10)"
            ]
          },
          "metadata": {},
          "execution_count": 42
        }
      ]
    },
    {
      "cell_type": "code",
      "source": [
        "sqr = tuple(x**2 for x in t)"
      ],
      "metadata": {
        "id": "CN1n6FG-lG8R"
      },
      "execution_count": null,
      "outputs": []
    },
    {
      "cell_type": "code",
      "source": [
        "sqr"
      ],
      "metadata": {
        "colab": {
          "base_uri": "https://localhost:8080/"
        },
        "id": "xQgjfQk_lQYq",
        "outputId": "0070dd73-fb70-406b-cc3e-923e4072c5bb"
      },
      "execution_count": null,
      "outputs": [
        {
          "output_type": "execute_result",
          "data": {
            "text/plain": [
              "(0, 1, 4, 9, 16, 25, 36, 49, 64, 81, 100)"
            ]
          },
          "metadata": {},
          "execution_count": 47
        }
      ]
    },
    {
      "cell_type": "code",
      "source": [
        "t=()\n",
        "for x in range(0,11):\n",
        "  t+=(x**2,)"
      ],
      "metadata": {
        "id": "fR5fgl4VlqZk"
      },
      "execution_count": null,
      "outputs": []
    },
    {
      "cell_type": "code",
      "source": [
        "t"
      ],
      "metadata": {
        "colab": {
          "base_uri": "https://localhost:8080/"
        },
        "id": "3F5zRUhBmC8H",
        "outputId": "837f9237-e0c4-4ccc-a909-91abf9076d65"
      },
      "execution_count": null,
      "outputs": [
        {
          "output_type": "execute_result",
          "data": {
            "text/plain": [
              "(0, 1, 4, 9, 16, 25, 36, 49, 64, 81, 100)"
            ]
          },
          "metadata": {},
          "execution_count": 49
        }
      ]
    },
    {
      "cell_type": "markdown",
      "source": [
        "# Set\n",
        "\n"
      ],
      "metadata": {
        "id": "wJ1lD0pimISp"
      }
    },
    {
      "cell_type": "code",
      "source": [
        "#methods\n",
        "#add()\n",
        "#extend()\n",
        "#union()\n",
        "#intersection()\n",
        "#intersection_update()\n",
        "#difference\n",
        "#difference_update()\n",
        "#disjoint()\n",
        "#issubset()\n",
        "#issuperset()\n",
        "#symmetric_difference()\n",
        "#symmetric_difference()\n",
        "#symmetric_difference_update()\n",
        "#in\n",
        "#not"
      ],
      "metadata": {
        "id": "pLvqq2g0mMFA"
      },
      "execution_count": null,
      "outputs": []
    },
    {
      "cell_type": "code",
      "source": [
        "# dictionary\n",
        "# create a dictionary\n",
        "# key value pair"
      ],
      "metadata": {
        "id": "H4Io9mvomse0"
      },
      "execution_count": null,
      "outputs": []
    },
    {
      "cell_type": "code",
      "source": [],
      "metadata": {
        "id": "MsV465gOm-0s"
      },
      "execution_count": null,
      "outputs": []
    }
  ]
}